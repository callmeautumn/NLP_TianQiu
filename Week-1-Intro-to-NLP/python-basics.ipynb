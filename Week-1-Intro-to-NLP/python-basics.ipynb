{
 "cells": [
  {
   "cell_type": "markdown",
   "metadata": {},
   "source": [
    "# NLP Week 1: Python Basics\n",
    "\n",
    "Notebooks a separated up into cells. Each cell can contain text in Markdown form (like this one), or Python code (See below)\n",
    "\n",
    "Each cell can be run in turn using “Shift + Enter” \n",
    "\n",
    "In a ``Python`` cell, you can include code that will be **executed**, and the output displayed underneath"
   ]
  },
  {
   "cell_type": "code",
   "execution_count": 1,
   "metadata": {},
   "outputs": [
    {
     "data": {
      "text/plain": [
       "'This is Python code'"
      ]
     },
     "execution_count": 1,
     "metadata": {},
     "output_type": "execute_result"
    }
   ],
   "source": [
    "\"This is Python code\""
   ]
  },
  {
   "cell_type": "markdown",
   "metadata": {},
   "source": [
    "### Comments ###\n",
    "\n",
    "You can also include text that **doesn't run** in ``Python`` cells, these are known as **comments** and are denoted with a ``#`` at the beginning of the line."
   ]
  },
  {
   "cell_type": "code",
   "execution_count": 2,
   "metadata": {},
   "outputs": [],
   "source": [
    "#This isn't, its a comment!"
   ]
  },
  {
   "cell_type": "code",
   "execution_count": 3,
   "metadata": {},
   "outputs": [
    {
     "data": {
      "text/plain": [
       "'This is still Python Code'"
      ]
     },
     "execution_count": 3,
     "metadata": {},
     "output_type": "execute_result"
    }
   ],
   "source": [
    "#You can have both \n",
    "\"This is still Python Code\""
   ]
  },
  {
   "cell_type": "markdown",
   "metadata": {},
   "source": [
    "### Cell states and shortcuts\n",
    "\n",
    "There are two main states to be in \"Command mode\" (with the blue highlights) and \"Edit mode\" (with the green highlights). \n",
    "\n",
    "Broadly in Command mode we are editting the whole notebook, and in edit mode we are editting the insides of the cells\n",
    "\n",
    "Popular shortcuts in Command Mode are \n",
    "\n",
    "- A = add cell above\n",
    "- B = add cell below \n",
    "- X = delete cell\n",
    "- M = set cell to mark down \n",
    "- Y = set cell to code\n",
    "\n",
    "### Running Command Line Code in Notebooks\n",
    "\n",
    "First lets check which version of Python the notebook is using. We can evaluate anyting that we would in the Command Line in a notebook by putting a ```!``` first"
   ]
  },
  {
   "cell_type": "code",
   "execution_count": 1,
   "metadata": {},
   "outputs": [
    {
     "name": "stdout",
     "output_type": "stream",
     "text": [
      "/Users/louisbusby/opt/miniconda3/envs/tf_m1/bin/python\r\n"
     ]
    }
   ],
   "source": [
    "!which python\n",
    "#!where python"
   ]
  },
  {
   "cell_type": "markdown",
   "metadata": {},
   "source": [
    "## Printing + Data Types\n",
    "\n",
    "Above, we saw that the last line of your cells was displayed underneath. For longer bits of code, we might want to display multiple things, and do it at various points in the code, and for this we use ``print()``\n",
    "\n",
    "You'll see below that there are **3 different ways** the code is being interpretted \n",
    "\n",
    "1. ``print()`` : is a **function**. It tells us to execute some code on the **argument** pass into the ``curly brackets(()``\n",
    "\n",
    "\n",
    "2. `\"This is some text\"` : is `textual data`. We tell Python this by putting it inside `quotation marks \"\"`. This type of textual data is known as a **String**.\n",
    "\n",
    "\n",
    "3. `1234` : is `numerical data`. This gets interpretted as numbers, as such we can do things like **maths** with them. "
   ]
  },
  {
   "cell_type": "code",
   "execution_count": 9,
   "metadata": {},
   "outputs": [
    {
     "name": "stdout",
     "output_type": "stream",
     "text": [
      "This is some text\n",
      "12343\n"
     ]
    }
   ],
   "source": [
    "#String\n",
    "print(\"This is some text\")\n",
    "#Numbers\n",
    "print(\"1234\"+\"3\")"
   ]
  },
  {
   "cell_type": "markdown",
   "metadata": {},
   "source": [
    "### Tasks \n",
    "\n",
    "For the following 4 lines. The `error` messages may be useful!\n",
    "\n",
    "1. Identify what is wrong with it\n",
    "\n",
    "\n",
    "2. Correct the code so it runs\n"
   ]
  },
  {
   "cell_type": "code",
   "execution_count": 12,
   "metadata": {},
   "outputs": [
    {
     "name": "stdout",
     "output_type": "stream",
     "text": [
      "NLP is going to be my favourite class\n"
     ]
    }
   ],
   "source": [
    "print(NLP is going to be my favourite class)"
   ]
  },
  {
   "cell_type": "code",
   "execution_count": null,
   "metadata": {},
   "outputs": [],
   "source": [
    "print('NLP is going to be my favourite class\")"
   ]
  },
  {
   "cell_type": "code",
   "execution_count": null,
   "metadata": {},
   "outputs": [],
   "source": [
    "prnt(\"NLP is going to be my favourite class\")"
   ]
  },
  {
   "cell_type": "code",
   "execution_count": 14,
   "metadata": {},
   "outputs": [
    {
     "name": "stdout",
     "output_type": "stream",
     "text": [
      "NLP is going to be my favourite class\n"
     ]
    }
   ],
   "source": [
    "print \"NLP is going to be my favourite class\""
   ]
  },
  {
   "cell_type": "markdown",
   "metadata": {},
   "source": [
    "### Tasks\n",
    "\n",
    "Edit the second line of code so that it prints out the **result of the calculation** (as opposed to the **literal String**."
   ]
  },
  {
   "cell_type": "code",
   "execution_count": null,
   "metadata": {},
   "outputs": [],
   "source": [
    "print(\"1 + 2 = \")\n"
   ]
  },
  {
   "cell_type": "markdown",
   "metadata": {},
   "source": [
    "## Strings \n",
    "\n",
    "We will mainly focus on **Strings** for the rest of this session, because the main focus of this **NLP Course** is written text. \n",
    "\n",
    "Whilst we also will work extensively with numbers as we use **statistics** to gain insights into the text, this seems like a good place to start!\n",
    "\n",
    "### Concatenation \n",
    "\n",
    "Its a long word for a simple thing (welcome to coding!). \n",
    "\n",
    "This just means **joining strings together**. When we use `+` with numbers, it does a mathematical operation, when we use it with strings, it combines them!\n"
   ]
  },
  {
   "cell_type": "code",
   "execution_count": null,
   "metadata": {},
   "outputs": [],
   "source": [
    "print(\"hello \" + \"world\")"
   ]
  },
  {
   "cell_type": "markdown",
   "metadata": {},
   "source": [
    "## Variables \n",
    "\n",
    "A ``Variable`` is a place that we can use to store values (``strings`` or numbers). \n",
    "\n",
    "We can then use them later and just use the **names of the variable**, and the code will interpret that as **the value stored inside it**.\n",
    "\n",
    "Once you have declared the variable, you can change the value in it. The code will interpret it as whatever is in the variable **at that particular time**.\n",
    "\n",
    "These values remain stored **throughout the notebook, across cells**.\n",
    "\n",
    "``\n",
    "my_dataset = \"its a really small data set\"\n",
    "path_to_file = \"/datasets/astrology/capricon/tuesday.txt\"\n",
    "number_of_hats = 47\n",
    "``"
   ]
  },
  {
   "cell_type": "code",
   "execution_count": 1,
   "metadata": {},
   "outputs": [
    {
     "name": "stdout",
     "output_type": "stream",
     "text": [
      "4\n",
      "6\n",
      "4\n",
      "5\n",
      "9\n",
      "/datasets/astrology/capricon/tuesday.txt\n"
     ]
    }
   ],
   "source": [
    "a = 4\n",
    "b = 6\n",
    "\n",
    "#Prints the numbers stored in the variables\n",
    "print(a)\n",
    "print(b)\n",
    "\n",
    "a = 4\n",
    "b = 5\n",
    "\n",
    "#Prints the numbers stored in the variables\n",
    "print(a)\n",
    "print(b)\n",
    "\n",
    "#Does the maths with the numbers stored in the variables!\n",
    "print(a + b)\n",
    "\n",
    "path_to_file = \"/datasets/astrology/capricon/tuesday.txt\"\n",
    "print(path_to_file)"
   ]
  },
  {
   "cell_type": "markdown",
   "metadata": {},
   "source": [
    "### Tasks - (4 tasks on variables and strings)\n",
    "\n",
    "1. Edit this code so the tweet is printed out with 2 additional hashtags. "
   ]
  },
  {
   "cell_type": "code",
   "execution_count": 15,
   "metadata": {},
   "outputs": [
    {
     "name": "stdout",
     "output_type": "stream",
     "text": [
      "Social Media Data is often hard to parse #nlp #cci\n"
     ]
    }
   ],
   "source": [
    "tweet_data = \"Social Media Data is often hard to parse #nlp #cci\"\n"
   ]
  },
  {
   "cell_type": "markdown",
   "metadata": {},
   "source": [
    "2. Write some code that takes a variable called `directory` and a variable called `text_file`, combines them into a new variable and prints it out"
   ]
  },
  {
   "cell_type": "code",
   "execution_count": 17,
   "metadata": {},
   "outputs": [
    {
     "name": "stdout",
     "output_type": "stream",
     "text": [
      "/my_directory/textiuoiu.txt\n"
     ]
    }
   ],
   "source": [
    "###YOUR CODE HERE\n"
   ]
  },
  {
   "cell_type": "markdown",
   "metadata": {},
   "source": [
    "3. Write some code which takes a variable `boring_text`, adds seven `exclamation!` marks and prints it out"
   ]
  },
  {
   "cell_type": "code",
   "execution_count": 18,
   "metadata": {},
   "outputs": [
    {
     "name": "stdout",
     "output_type": "stream",
     "text": [
      "blah blah!!!!!!!\n"
     ]
    }
   ],
   "source": [
    "boring_text = \"blah blah\"\n",
    "\n",
    "###YOUR CODE HERE\n",
    "\n"
   ]
  },
  {
   "cell_type": "markdown",
   "metadata": {},
   "source": [
    "## String Functions\n",
    "\n",
    "As well as storing, retrieving and joining together strings, we can also use some built in **functions** in Python to learn about, and edit **Strings** to help us in **NLP** tasks. \n",
    "\n",
    "#### `len()`\n",
    "\n",
    "The `len()` function in Python can be used to get the **length of a given string**. \n",
    "\n",
    "```\n",
    "letters_in_book = len(book_text)\n",
    "```\n",
    "\n",
    "#### `Indexing`\n",
    "\n",
    "We can also extract **specific characters** from a string, given a **numerical index**. \n",
    "\n",
    "We do this using ``square brackets[]``. \n",
    "\n",
    "In coding, we **start counting at 0**. This means the first letter of a string is as follows \n",
    "\n",
    "``\n",
    "first_letter_in_book = book_text[0]\n",
    "``\n",
    "\n",
    "It also means **last character** will be at index **length - 1**. So we can also combine with the `len()` function to calculate this!\n",
    "\n",
    "\n",
    "#### `Slicing`\n",
    "\n",
    "If we want to get **more than 1 character**, we can provide two indexes with a ``colon:`` inbetween to specify a range.\n",
    "\n",
    "```\n",
    "first_five_letters = book_text[0:5]\n",
    "```"
   ]
  },
  {
   "cell_type": "markdown",
   "metadata": {},
   "source": [
    "### Tasks\n",
    "\n",
    "1. These three variables contain information from a users social media profile. Write some code which prints out the **total number of characters in the whole profile**."
   ]
  },
  {
   "cell_type": "code",
   "execution_count": null,
   "metadata": {},
   "outputs": [],
   "source": [
    "name = \"Louis\"\n",
    "job = \"Lecturer\"\n",
    "skills = \"All of them\"\n",
    "\n",
    "#Your code here\n"
   ]
  },
  {
   "cell_type": "markdown",
   "metadata": {},
   "source": [
    "2. Write some code to print out the last character of a variable called `username`"
   ]
  },
  {
   "cell_type": "code",
   "execution_count": 23,
   "metadata": {},
   "outputs": [
    {
     "name": "stdout",
     "output_type": "stream",
     "text": [
      "5 4\n",
      "u\n"
     ]
    }
   ],
   "source": [
    "#Your code here\n",
    "username = \"louis\"\n"
   ]
  },
  {
   "cell_type": "markdown",
   "metadata": {},
   "source": [
    "3. The variable `script` contains a **one letter abbreviation** of the actors name, followed by a colon, then the text for the actor to speak. Write some code that prints out **just the one letter abbreviation**. "
   ]
  },
  {
   "cell_type": "code",
   "execution_count": 24,
   "metadata": {},
   "outputs": [
    {
     "data": {
      "text/plain": [
       "'A'"
      ]
     },
     "execution_count": 24,
     "metadata": {},
     "output_type": "execute_result"
    }
   ],
   "source": [
    "script = \"A:I have something important to say\"\n",
    "\n",
    "## Your code here\n"
   ]
  },
  {
   "cell_type": "markdown",
   "metadata": {},
   "source": [
    "4. The code below encodes a drum beat. Musicians use it compose even lengthed rhymthic patterns between 4 and 16 notes long. Write some code that prints out the **middle three notes, regardless of how long it is**.\n",
    "\n",
    "     **HINT**: Can you use the ``len()`` function to calculate the midpoint?\n",
    "    \n",
    "    **HINT**: A division always results in a number in the decimal format (known as a ``float``!) Indexes need to be in the whole number format (known as ``int``). You can convert a ``float`` to and ``int`` by calleding the ``int()`` function on it. \n",
    "    \n",
    "    e.g ``an_integer = int(3.0)``"
   ]
  },
  {
   "cell_type": "code",
   "execution_count": 29,
   "metadata": {},
   "outputs": [
    {
     "name": "stdout",
     "output_type": "stream",
     "text": [
      "11\n",
      "5\n",
      "-\n"
     ]
    },
    {
     "data": {
      "text/plain": [
       "'--x'"
      ]
     },
     "execution_count": 29,
     "metadata": {},
     "output_type": "execute_result"
    }
   ],
   "source": [
    "drum_beat = \"x--x--xxx---\"\n",
    "\n",
    "#Your code here"
   ]
  },
  {
   "cell_type": "markdown",
   "metadata": {},
   "source": [
    "5. The variable `currency` is a string that always has **3 characters at the end** that represent the type of currency (e.g. `GBP`, `USD` etc...). Add in some code that **removes this** leaving just the number to be printed out."
   ]
  },
  {
   "cell_type": "code",
   "execution_count": 31,
   "metadata": {},
   "outputs": [
    {
     "name": "stdout",
     "output_type": "stream",
     "text": [
      "100000023.00 \n"
     ]
    }
   ],
   "source": [
    "currency = \"100000023.00 HKD\"\n",
    "\n",
    "#Your code here\n"
   ]
  }
 ],
 "metadata": {
  "kernelspec": {
   "display_name": "Python 3",
   "language": "python",
   "name": "python3"
  },
  "language_info": {
   "codemirror_mode": {
    "name": "ipython",
    "version": 3
   },
   "file_extension": ".py",
   "mimetype": "text/x-python",
   "name": "python",
   "nbconvert_exporter": "python",
   "pygments_lexer": "ipython3",
   "version": "3.9.13"
  }
 },
 "nbformat": 4,
 "nbformat_minor": 4
}
