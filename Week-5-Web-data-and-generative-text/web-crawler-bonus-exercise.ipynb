{
 "cells": [
  {
   "cell_type": "markdown",
   "metadata": {},
   "source": [
    "# Web crawling bonus exericse \n",
    "\n",
    "If you want to delve deeper into the world of web scraping, you can run the code to re-create the nursery rhymes dataset we have been using for the last few weeks. This was built using a web-crawler to scrape all of the data from the website [allnurseryrhymes.com](https://allnurseryrhymes.com).\n",
    "\n",
    "**Step 1:** Navigate to the [web-scrape-nursery-rhymes](https://git.arts.ac.uk/tbroad/web-scrape-nursery-rhymes) git page and clone the repo.\n",
    "\n",
    "**Step 2:** Follow the instructions to see how to run a web crawler that is built using `scrapy`. \n",
    "\n",
    "Note: there is no Python notebooks in this codebase so you will have to run the Python scripts in the terminal / command line. The easiest way to do this is the open the folder in VSCode and go to the menu bar 'Terminal -> New Terminal'. Don't forget to activate your NLP conda environment before running the scripts!\n",
    "\n",
    "**Step 3:** Have a look through the data and see if you can find any errors in what has been collected. **Remember**, web scraping is never perfect and there will always been some *manual data cleaning* required after scraping.\n",
    "\n",
    "**Step 4:** Look at the code and see if you can make sense of it. The most important files are `nursery_rhymes_project/spiders/nursery_rhymes_spider.py` which defines the `spider`, the programming object that performs the web scraping and navigation between web pages. Then take a look at `filter_output.py` which removes the content from pages which we don't want, and `extract_lyrics.py` which parses the HTML and saves our nursery rhymes as text files. \n",
    "\n",
    "**Step 5** Look at some more of the web scraping repositories that have been developed as examples for this course, such as [web-scrape-myers-briggs](https://git.arts.ac.uk/tbroad/web-scrape-myers-briggs), [web-scrape-football-chants](https://git.arts.ac.uk/tbroad/web-scrape-football-chants), or [web-scrape-we-rate-dogs](https://git.arts.ac.uk/tbroad/web-scrape-we-rate-dogs) and see how they differ to the nursery rhymes page. The [web-scrape-we-rate-dogs](https://git.arts.ac.uk/tbroad/web-scrape-we-rate-dogs) does not use a web crawler but actually scrapes data from instagram using a Python library specific for working with instagram. **I do not recommend running these yourself in class** as they all will take a very long time to scrape!"
   ]
  }
 ],
 "metadata": {
  "language_info": {
   "name": "python"
  },
  "orig_nbformat": 4
 },
 "nbformat": 4,
 "nbformat_minor": 2
}
