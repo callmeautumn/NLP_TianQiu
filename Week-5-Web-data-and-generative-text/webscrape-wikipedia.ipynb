{
 "cells": [
  {
   "cell_type": "markdown",
   "metadata": {},
   "source": [
    "# Webscraping Wikipedia\n",
    "\n",
    "In this notebook we are going to see some code to extract the text from a wikipedia page. For this we are going to use the Python library [beatiful soup](https://www.crummy.com/software/BeautifulSoup/bs4/doc/), a really nice library for extracting content from HTML/XML files (what all websites are made from, to some extent). \n",
    "\n",
    "This code will load in the content from a wikipedia page we specify, get the content from the main text section, and extract the text. Later in the code we will see how to write this to a file, using the append function, so we can repeatedly load in new wikipedia articles and add them to an ever expanding file. \n",
    "\n",
    "You may need to uncomment and run these installs if you don't have the libraries `requests` and `beatifulsoup4` already:"
   ]
  },
  {
   "cell_type": "code",
   "execution_count": 11,
   "metadata": {},
   "outputs": [],
   "source": [
    "# %pip install requests\n",
    "# %pip install beautifulsoup4\n"
   ]
  },
  {
   "cell_type": "code",
   "execution_count": 12,
   "metadata": {},
   "outputs": [
    {
     "name": "stdout",
     "output_type": "stream",
     "text": [
      "Requirement already satisfied: beautifulsoup4 in c:\\users\\rog\\anaconda3\\envs\\stem\\lib\\site-packages (4.12.2)Note: you may need to restart the kernel to use updated packages.\n",
      "\n",
      "Requirement already satisfied: soupsieve>1.2 in c:\\users\\rog\\anaconda3\\envs\\stem\\lib\\site-packages (from beautifulsoup4) (2.5)\n"
     ]
    }
   ],
   "source": [
    "pip install beautifulsoup4\n"
   ]
  },
  {
   "cell_type": "markdown",
   "metadata": {},
   "source": []
  },
  {
   "cell_type": "markdown",
   "metadata": {},
   "source": [
    "Now lets import them:"
   ]
  },
  {
   "cell_type": "code",
   "execution_count": 13,
   "metadata": {},
   "outputs": [],
   "source": [
    "import requests\n",
    "from bs4 import BeautifulSoup"
   ]
  },
  {
   "cell_type": "markdown",
   "metadata": {},
   "source": [
    "This function will extract the text from the main section of any wikipedia page. It has two parameters, page_title, which is just the title of the wikipedia article, and language, so you can scrape wikipedia in Languages other than English if you like!\n",
    "\n",
    "The main page content is in a div section called `div.mw-body-content.mw-content-ltr div.mw-parser-output` Why it is called that? I have no idea. Ask the Wikipedia devs! \n",
    "\n",
    "It is worth bearing in mind, all web pages will have different names for the different sections and properties in their HTML pages, and not all web pages are as easy to scrape as wikipedias! If you wanted to change this code to scrape a different website you will almost certainly have to change the property that is passed into `soup.select()`. **Pro tip:** instead of trying to work out what div section you want to extract data from by looking through the HTML manually, you can use the chrome extension [simple scraper](https://simplescraper.io/docs/), which has a nice interactive way of finding the properties that you want to scrape. \n",
    "\n",
    "<a id='scrape-function'></a>"
   ]
  },
  {
   "cell_type": "code",
   "execution_count": 14,
   "metadata": {},
   "outputs": [],
   "source": [
    "def extract_main_body_text(page_title, language='en'):\n",
    "    # Lets construct our URL with our language and page title input parameters\n",
    "    wikipedia_url = f'https://{language}.wikipedia.org/wiki/{page_title}'\n",
    "    \n",
    "    # Make a request to the wikipdia server and check to see we get a response\n",
    "    response = requests.get(wikipedia_url)\n",
    "    if response.status_code != 200:\n",
    "        return \"Failed to retrieve the page.\"\n",
    "\n",
    "    # Use beatiful soup to parse the HTML\n",
    "    soup = BeautifulSoup(response.text, 'html.parser')\n",
    "\n",
    "    # Empty string to put our content\n",
    "    main_body_text = \"\"\n",
    "    # Get the text from the main body using this specific tag\n",
    "    main_content = soup.select('div.mw-body-content.mw-content-ltr div.mw-parser-output')\n",
    "    \n",
    "    # If we have retrieve content\n",
    "    if main_content:\n",
    "        # Find each paragraph\n",
    "        for paragraph in main_content[0].find_all('p'):\n",
    "            # And add that paragraph to our main_body_text string\n",
    "            main_body_text += paragraph.get_text()\n",
    "            #Add a new line after each paragraph\n",
    "            main_body_text += '\\n'\n",
    "\n",
    "    return main_body_text"
   ]
  },
  {
   "cell_type": "markdown",
   "metadata": {},
   "source": [
    "In this cell we will define the wikipedia page that we want to scrape (in the variable `page_title`), we will then call the function about the extract the text from the page in the variable `main_body_text`:\n",
    "\n",
    "<a id='set-page'>"
   ]
  },
  {
   "cell_type": "code",
   "execution_count": 19,
   "metadata": {},
   "outputs": [
    {
     "name": "stdout",
     "output_type": "stream",
     "text": [
      "\n",
      "\n",
      "Canary Wharf is an area of East London, England, located near the Isle of Dogs in the London Borough of Tower Hamlets. Canary Wharf is defined by the Greater London Authority as being part of London's central business district, alongside Central London.[1] Alongside the City of London, it constitutes one of the main financial centres in the United Kingdom and the world,[2] containing many high-rise buildings including the third-tallest in the UK, One Canada Square,[3] which opened on 26 August 1991.[4]\n",
      "\n",
      "Developed on the site of the former West India Docks, Canary Wharf contains around 16,000,000 sq ft (1,500,000 m2) of office and retail space. It has many open areas, including Canada Square, Cabot Square and Westferry Circus. Together with Heron Quays and Wood Wharf, it forms the Canary Wharf Estate, around 97 acres (39 ha) in area.\n",
      "\n",
      "Canary Wharf is located on the West India Docks on the Isle of Dogs.\n",
      "\n",
      "From 1802 to the late 1980s, what would become the Canary Wharf Estate was a part of the Isle of Dogs (Millwall), Limehouse, and Poplar and was one of the busiest docks in the world.  West India Docks was primarily developed by Robert Milligan (c. 1746–1809) who set up the West India Dock Company.\n",
      "\n",
      "The Port of London Authority was established in 1909 and took control of West India Dock. The enterprise of Sir Alfred Lewis Jones, a Welsh shipping magnate who was a prominent figure in the Canary Islands, led to a constant stream of ships arriving into London’s South Quay Dock and the naming of Canary Wharf, after the ships' origin.[5] It was named after No. 32 berth of the West Wood Quay of the Import Dock. This was built in 1936 for Fruit Lines Ltd, a subsidiary of Fred Olsen Lines for the Mediterranean and Canary Islands fruit trade. It is located on the Isle of Dogs, the quay and warehouse were given the name Canary Wharf.[6]\n",
      "\n",
      "After the 1960s, when cargo became containerized, port industry began to decline, leading to all the docks being closed by 1980.[7][8] After the docks closed in 1980, the British Government adopted policies to stimulate redevelopment of the area, including the creation of the London Docklands Development Corporation (LDDC) in 1981 and the granting of Urban Enterprise Zone status to the Isle of Dogs in 1982.[8]\n",
      "\n",
      "The Canary Wharf of today began when Michael von Clemm, former chairman of Credit Suisse First Boston (CSFB), came up with the idea to convert Canary Wharf into a back office. Further discussions with G Ware Travelstead led to proposals for a new business district and included the LDDC developing an inexpensive light metro scheme, the Docklands Light Railway, to make use of a large amount of redundant railway infrastructure and to improve access.\n",
      "\n",
      "The project was sold to the Canadian company Olympia & York[9] and construction began in 1988, master-planned by Skidmore, Owings & Merrill with Yorke Rosenberg Mardall as their UK advisors, and subsequently by Koetter Kim. The first buildings were completed in 1991, including One Canada Square, which became the UK's tallest building at the time and a symbol of the regeneration of Docklands. By the time it opened, the London commercial property market had collapsed, and Olympia and York Canary Wharf Limited filed for bankruptcy in May 1992.\n",
      "\n",
      "Initially, the City of London saw Canary Wharf as an existential threat. It modified its planning laws to expand the provision of new offices in the City of London, for example, creating offices above railway stations (Blackfriars) and roads (Alban Gate). The resulting oversupply of office space contributed to the failure of the Canary Wharf project.\n",
      "\n",
      "In October 1995, an international consortium that included investors such as Alwaleed, bought control for $1.2 billion. Paul Reichmann, of Olympia & York, was named chairman, and Canary Wharf went public in 1999.[10] The new company was called Canary Wharf Limited, and later became Canary Wharf Group.\n",
      "\n",
      "In 1997, some residents living on the Isle of Dogs launched a lawsuit against Canary Wharf Ltd for private nuisance because the tower interfered with TV signals. The residents lost the case.[11]\n",
      "\n",
      "Recovery in the property market generally, coupled with continuing demand for large floorplate Grade A office space, slowly improved the level of interest. A critical event in the recovery was the much-delayed start of work on the Jubilee Line Extension, which the government wanted ready for the Millennium celebrations.\n",
      "\n",
      "In March 2004, Canary Wharf Group plc. was taken over by a consortium of investors, backed by its largest shareholder Glick Family Investments[12] and led by Morgan Stanley using a vehicle named Songbird Estates plc.\n",
      "\n",
      "In addition to being a leading financial centre in the United Kingdom, Canary Wharf is famous for a collection of well-known high-rise buildings:\n",
      "\n",
      "This table lists completed buildings in Canary Wharf that are at least 100 metres tall.\n",
      "\n",
      "As at 12 February 2023, there are 16 listed buildings in Canary Wharf of which 2 are Grade I and 14 in Grade II.[28]\n",
      "\n",
      "These docks with Nos 1 and 2 warehouses are now the only surviving examples of the first intensive period of London Docklands construction: 1800–10.\n",
      "\n",
      "Most of the Grade II Listed buildings in Canary Wharf sit to the north-west of West India Dock North, and are located within the West India Dock Conservation Area.[33]  In addition to architectural values, “these buildings and structures are of significance due to their association with the development of the docks and the community that grew up around them”.[34]\n",
      "\n",
      "Canary Wharf contains around 16,000,000 sq ft (1,500,000 m2) of office and retail space, of which around 7,900,000 sq ft (730,000 m2) (about 49%) is owned by Canary Wharf Group.[50] Around 105,000 people work in Canary Wharf,[51] and it is home to the world or European headquarters of numerous major banks, professional services firms, and media organisations, including Barclays, Citigroup, Clifford Chance, Credit Suisse, Ernst & Young, Fitch Ratings, HSBC, Infosys, JPMorgan Chase, KPMG, MetLife, Moody's, Morgan Stanley, Royal Bank of Canada, Deutsche Bank, S&P Global, Skadden, Arps, Slate, Meagher & Flom, State Street, The Economist Group and Thomson Reuters.[52] Until 2018, Canary Wharf also hosted two European Union agencies, European Medicines Agency[53] and European Banking Authority,[54] that moved to Amsterdam and Paris respectively due to Brexit.\n",
      "\n",
      "West India Quays and Poplar Dock are two marinas that are used as moorings for barges and private leisure river craft and is owned by the Canal & River Trust.[55][56]\n",
      "\n",
      "A local public library, called Idea Store Canary Wharf, is in Churchill Place shopping mall and run by Tower Hamlets Council which opened on Thursday 16 March 2006 as part of the Idea Store project[57] and is the borough fourth Idea Store.[58]\n",
      "\n",
      "Canary Wharf hosts two multiplexes (cinemas), one on West India Quay run by Cineworld.[59][60] and another at Crossrail Place called Everyman Cinema.[61]\n",
      "\n",
      "Canada Square is one of the central squares at Canary Wharf.  It is a large open space with grass, except during the winter when it is converted into an ice rink.  The square is named after Canada, because the original developers of modern Canary Wharf, Olympia & York, wanted to reflect their heritage.  Underneath the square is Canada Place shopping mall.\n",
      "\n",
      "Westferry Circus is on the west side of Canary Wharf. It is a garden at ground level, and below is a roundabout allowing traffic to flow through.  The garden is enclosed by bespoke hand-crafted ornamental railings and entrance gates by artist Giuseppe Lund. The area has a long history, dating back to 1812, when the Poplar and Greenwich Roads Company operated a horse ferry between Greenwich and the Isle of Dogs. It operated on the West Ferry and East Ferry Roads, which the names survived. Westferry Circus was chosen as the name for the roundabout and park by virtue of its proximity to Westferry Road.\n",
      "\n",
      "Cabot Square is one of the biggest squares at Canary Wharf, with a large fountain at the centre. The inner perimeter has additional fountains covered by trees. The square has large circular glass ventilation holes to allow gases to escape from the underground car park. The square is named after John Cabot and his son Sebastian, who were Italian explorers who settled in England in 1484.\n",
      "\n",
      "Churchill Place is an area on the east side of Canary Wharf.  It is named after Winston Churchill.\n",
      "\n",
      "A small square on the west side of Canary Wharf named after Christopher Columbus. The first phase of Canary Wharf was completed in 1992, 500 years after Columbus arrived in America.\n",
      "\n",
      "A passageway south of Cabot Square.  Named after Richard Chancellor who sailed with Sir John Willoughby from Greenwich on their voyage through the White Sea to Moscow.\n",
      "\n",
      "Small area north of Cabot Square. Leads to North Dock footbridge towards Port East. Named after British architect Christopher Wren.\n",
      "\n",
      "A 4,160m² roof garden, one of London's largest, houses on the top of seven-storey Crossrail Place structure, which contains the Elizabeth line Canary Wharf station. Opened to public in 2015, it lies almost exactly on the Meridian line splitting eastern and western hemispheres. The plants originating from the eastern hemisphere are planted to the East of the Meridian line in the garden, with those from the Western hemisphere on the opposite side.[62][63]\n",
      "\n",
      "Every four years, residents of Canary Wharf ward elect two councillors to represent them on Tower Hamlets Council. \n",
      "\n",
      "† Andrew Wood was elected for the Conservative Party in 2018, but resigned to sit as an Independent in 2020.[65]\n",
      "\n",
      "Canary Wharf is served by London-wide, regional, national and international transport connections.\n",
      "\n",
      "Canary Wharf is in London fare zone 2, and several stations can be found throughout the estate.\n",
      "\n",
      "Stations in Canary Wharf only offer direct connections to London and Berkshire destinations. Regional and national National Rail connections can be found elsewhere in London, including at Liverpool Street, Lewisham, London Bridge, Stratford, Stratford International and Waterloo.[67]\n",
      "\n",
      "Major roads near Canary Wharf include:\n",
      "\n",
      "Transport for London (TfL) and the London Borough of Tower Hamlets monitor the air quality around Canary Wharf.\n",
      "\n",
      "In 2017, an automatic monitoring station in Blackwall found that local air quality failed to meet UK National Air Quality Objectives, recording an annual average Nitrogen Dioxide (NO2) concentration of 56 μg/m3 (micrograms per cubic metre). The National Objective is set by the government at 40 μg/m3.\n",
      "\n",
      "Alternative stations nearer Canary Wharf recorded cleaner air. Monitors at the Limehouse Link/Westferry Road junction and on Prestons Road recorded a 2017 annual average NO2 concentration of 40 μg/m3, which Tower Hamlets argue fails to meet the UK National Objective.[69]\n",
      "\n",
      "London Buses routes 135, 277, D3, D7, D8, N277 and N550 call at bus stops near Canary Wharf. Bus 135 links Canary Wharf directly to Liverpool Street in the City of London, and bus D8 to Stratford.[70]\n",
      "\n",
      "Several Riverboat services call at Canary Wharf Pier, including:\n",
      "\n",
      "Tower, London Bridge City and Blackfriars are in the City of London. Oyster Cards are valid for travel on TfL-coordinated riverboat services.[71]\n",
      "\n",
      "London City Airport is three miles from Canary Wharf. Over 4.8 million passengers passed through City Airport in 2018. The airport serves domestic and international destinations, including New York.[72][73]\n",
      "\n",
      "London City Airport is on the DLR. Passengers from Canary Wharf can change trains at Poplar for services to the Airport.[66]\n",
      "\n",
      "The Canary Wharf Group, London Borough of Tower Hamlets and Transport for London (TfL) provide cycling infrastructure in and around Canary Wharf. Several leisure and commuter routes pass through or near the estate, including:\n",
      "\n",
      "Opened in 2003,[80] the Museum of London Docklands is one of the  main attractions in the area.\n",
      "\n",
      "Canary Wharf has been reported since 2017 as part of the Pokémon Go augmented reality game to being the home for the most wanted Pokémon gyms in London including Canary Wharf DLR station and Montgomery Square.[81]\n",
      "\n",
      "Canary Wharf Group published an official Pokémon map for PokéStop's and Pokémon Gyms, the managing director for retail Camille Waxer said in 2016 that Pokémon Go has serious potential to attract new audiences to the area, particularly food and drink outlets are seeing an increase in footfall.[82]\n",
      "\n",
      "Canary Wharf hosts the \"Winter Lights\" art installations each January.[83] 2023 Canary Wharf Winter Lights Festival is the largest light art festival in London.[84][85]\n",
      "\n",
      "Canary Wharf features in both the Doctor Who and Torchwood franchises as the fictional base of the Torchwood Institute, an organisation created by Queen Victoria to combat extraterrestrial threats. Canary Wharf features heavily as the staging post for the 2007 Cyberman invasion of Earth and is heavily damaged during a resulting battle between the Cybermen and the Daleks.\n",
      "\n",
      "Thom Yorke of Radiohead, during their concert Live at the Astoria in May 1994,[86] explained their song Fake Plastic Trees is about Canary Wharf.\n",
      "\n",
      "The Canary Wharf Art Trail is the largest outdoor public art collection in London.[88][89] People are free to visit more than 100 pieces of stand-alone sculptures, integrated architectural works, and outdoor art exhibiting outside buildings around the Canary Wharf area.[90] Two printed maps are regularly updated by the Canary Wharf Group for visitors to discover and identify artworks permanently on display all over the estate.\n",
      "\n",
      "The East London Advertiser (formerly The Docklands & East London Advertiser) is a local newspaper printing weekly and also online.\n",
      "\n",
      "Wharf life is a fortnightly publication of 15,000 copies for Canary Wharf, Docklands and east London. An E-edition is also available.[93]\n",
      "\n",
      "\n"
     ]
    }
   ],
   "source": [
    "page_title = \"Camberwell\" \n",
    "main_body_text = extract_main_body_text(page_title, language='en')\n",
    "print(main_body_text)"
   ]
  },
  {
   "cell_type": "code",
   "execution_count": null,
   "metadata": {},
   "outputs": [],
   "source": [
    "page_title = \"Canary Wharf\" \n",
    "main_body_text = extract_main_body_text(page_title, language='en')\n",
    "print(main_body_text)"
   ]
  },
  {
   "cell_type": "markdown",
   "metadata": {},
   "source": [
    "Here we can save our scraped data to a file. This is in the folder `data/my-data` a special folder where you can put your datasets as you work on these code projects (without them being tracked by git). \n",
    "\n",
    "These cell will write whatever text is in the variable `main_body_text` to the end of the file `wikipedia-text`. Here we are using the option `a` which means append. This won't delete or overwrite any of the data already in our file. That way we can keep running the cell about to load text from a new page and the cell below to append it to our evergrowing file!\n",
    "\n",
    "<a id='write-text'></a>"
   ]
  },
  {
   "cell_type": "code",
   "execution_count": 16,
   "metadata": {},
   "outputs": [],
   "source": [
    "with open(\"../data/my-data/my-wikipedia-text.txt\", \"a\") as myfile:\n",
    "    myfile.write(main_body_text)"
   ]
  },
  {
   "cell_type": "markdown",
   "metadata": {},
   "source": [
    "## Tasks\n",
    "\n",
    "Run through this notebook a couple of times, [loading in different Wikipedia articles](#set-page) and [saving them](#write-text) to the file of scraped text. Don't worry about the data getting overwritten, we are writing in append only so our file will just get bigger each time you load and save the text from another page. \n",
    "\n",
    "Open up the text file in `data/my-data/my-wikipedia-text.txt` and see what is in there. Does it look sensible? Once you feel like you have scraped enough text then go to the `text-generation-with-markov-chains` notebook and try generating some text with the data you have scraped! \n",
    "\n",
    "If you want to add more data more quickly, and find running the cells individually for one page, why don't you try and write some code that goes through a list where you can put lots of wikipedia page titles, and get it to get the text from each page one by one and save it to our appended file?\n",
    "\n",
    "### Bonus tasks\n",
    "\n",
    "There are some bonus tasks here if you want to develop your web scraping skills futher. Alternatively, if you are more interested in the generative text component of this session, you can spend your time on the bonus tasks there.\n",
    "\n",
    "**Bonus task A:** Can you modify the [function that performs the web scraping](#scrape-function) to include the headers in the wikipedia page text as well as the paragraphs? \n",
    "\n",
    "**Bonus task B:** Can you write some code that finds and removes the citations (numbers in square brackets, e.g. \\[1\\], \\[2\\], \\[12\\])  from the text before writing it to the file? Tip: You may want to borrow some of the regex code from the stemmer we build in week 3 to do this. \n",
    "\n",
    "**Bonus task C:** Can you adapt this code to extract data from another website. You will almost certainly have to change the property being searched for in [the web scraping function](#scrape-function). Either use your browser to look at the HTML code for the site (in most browsers this will be under a menu option called developer tools), or use the chrome extension [simple scraper](https://simplescraper.io/docs/) to help you. It will not be possible to scrape data from all websites using this code, lots of website these days try to prevent bots from accessing their content!\n"
   ]
  }
 ],
 "metadata": {
  "kernelspec": {
   "display_name": "nlp",
   "language": "python",
   "name": "python3"
  },
  "language_info": {
   "codemirror_mode": {
    "name": "ipython",
    "version": 3
   },
   "file_extension": ".py",
   "mimetype": "text/x-python",
   "name": "python",
   "nbconvert_exporter": "python",
   "pygments_lexer": "ipython3",
   "version": "3.9.18"
  },
  "orig_nbformat": 4
 },
 "nbformat": 4,
 "nbformat_minor": 2
}
