{
 "cells": [
  {
   "cell_type": "markdown",
   "metadata": {},
   "source": [
    "# Webscraping Wikipedia\n",
    "\n",
    "In this notebook we are going to see some code to extract the text from a wikipedia page. For this we are going to use the Python library [beatiful soup](https://www.crummy.com/software/BeautifulSoup/bs4/doc/), a really nice library for extracting content from HTML/XML files (what all websites are made from, to some extent). \n",
    "\n",
    "This code will load in the content from a wikipedia page we specify, get the content from the main text section, and extract the text. Later in the code we will see how to write this to a file, using the append function, so we can repeatedly load in new wikipedia articles and add them to an ever expanding file. \n",
    "\n",
    "You may need to uncomment and run these installs if you don't have the libraries `requests` and `beatifulsoup4` already:"
   ]
  },
  {
   "cell_type": "code",
   "execution_count": null,
   "metadata": {},
   "outputs": [],
   "source": [
    "# %pip install requests\n",
    "# %pip install beautifulsoup4"
   ]
  },
  {
   "cell_type": "markdown",
   "metadata": {},
   "source": [
    "Now lets import them:"
   ]
  },
  {
   "cell_type": "code",
   "execution_count": null,
   "metadata": {},
   "outputs": [],
   "source": [
    "import requests\n",
    "from bs4 import BeautifulSoup"
   ]
  },
  {
   "cell_type": "markdown",
   "metadata": {},
   "source": [
    "This function will extract the text from the main section of any wikipedia page. It has two parameters, page_title, which is just the title of the wikipedia article, and language, so you can scrape wikipedia in Languages other than English if you like!\n",
    "\n",
    "The main page content is in a div section called `div.mw-body-content.mw-content-ltr div.mw-parser-output` Why it is called that? I have no idea. Ask the Wikipedia devs! \n",
    "\n",
    "It is worth bearing in mind, all web pages will have different names for the different sections and properties in their HTML pages, and not all web pages are as easy to scrape as wikipedias! If you wanted to change this code to scrape a different website you will almost certainly have to change the property that is passed into `soup.select()`. **Pro tip:** instead of trying to work out what div section you want to extract data from by looking through the HTML manually, you can use the chrome extension [simple scraper](https://simplescraper.io/docs/), which has a nice interactive way of finding the properties that you want to scrape. \n",
    "\n",
    "<a id='scrape-function'></a>"
   ]
  },
  {
   "cell_type": "code",
   "execution_count": 22,
   "metadata": {},
   "outputs": [],
   "source": [
    "def extract_main_body_text(page_title, language='en'):\n",
    "    # Lets construct our URL with our language and page title input parameters\n",
    "    wikipedia_url = f'https://{language}.wikipedia.org/wiki/{page_title}'\n",
    "    \n",
    "    # Make a request to the wikipdia server and check to see we get a response\n",
    "    response = requests.get(wikipedia_url)\n",
    "    if response.status_code != 200:\n",
    "        return \"Failed to retrieve the page.\"\n",
    "\n",
    "    # Use beatiful soup to parse the HTML\n",
    "    soup = BeautifulSoup(response.text, 'html.parser')\n",
    "\n",
    "    # Empty string to put our content\n",
    "    main_body_text = \"\"\n",
    "    # Get the text from the main body using this specific tag\n",
    "    main_content = soup.select('div.mw-body-content.mw-content-ltr div.mw-parser-output')\n",
    "    \n",
    "    # If we have retrieve content\n",
    "    if main_content:\n",
    "        # Find each paragraph\n",
    "        for paragraph in main_content[0].find_all('p'):\n",
    "            # And add that paragraph to our main_body_text string\n",
    "            main_body_text += paragraph.get_text()\n",
    "            #Add a new line after each paragraph\n",
    "            main_body_text += '\\n'\n",
    "\n",
    "    return main_body_text"
   ]
  },
  {
   "cell_type": "markdown",
   "metadata": {},
   "source": [
    "In this cell we will define the wikipedia page that we want to scrape (in the variable `page_title`), we will then call the function about the extract the text from the page in the variable `main_body_text`:\n",
    "\n",
    "<a id='set-page'>"
   ]
  },
  {
   "cell_type": "code",
   "execution_count": 24,
   "metadata": {},
   "outputs": [
    {
     "name": "stdout",
     "output_type": "stream",
     "text": [
      "\n",
      "\n",
      "Peckham (/ˈpɛkəm/ PEK-əm) is a district in south-east London, within the London Borough of Southwark. It is 3.5 miles (5.6 km) south-east of Charing Cross.[1] At the 2001 Census the Peckham ward had a population of 14,720.[2]\n",
      "\n",
      "\"Peckham\" is a Saxon place name meaning the village of the River Peck, a small stream that ran through the district until it was enclosed in 1823. Archaeological evidence indicates earlier Roman occupation in the area, although the name of this settlement is lost. The Oxford Dictionary of English Place-names (1991, 1998) gives the origin as from the Old English *pēac and hām meaning ‘homestead by a peak or hill’. The name of the river is a back-formation from the name of the village. Peckham Rye is from Old English rīth, stream.\n",
      "\n",
      "Following the Norman Conquest, the manor of Peckham was granted to Odo of Bayeux and held by the Bishop of Lisieux.[3][4] It was described as being a hamlet on the road from Camberwell to Greenwich.[4]\n",
      "\n",
      "Peckham came within the newly created Metropolitan Borough of Camberwell and County of London in 1889.[5] In 1965, the borough was abolished and the area then fell roughly within of the newly created London Borough of Southwark.\n",
      "\n",
      "Peckham appears in Domesday Book of 1086 as Pecheham. It was held by the Bishop of Lisieux from Odo of Bayeux. Its Domesday assets were: 2 hides. It had land for 1 plough, 2 acres (8,100 m2) of meadow. It rendered 30 shillings (£1.50).[6]\n",
      "\n",
      "The manor was owned by King Henry I, who gave it to his son Robert, Earl of Gloucester. When Robert married the heiress to Camberwell the two manors were united under royal ownership. King John probably hunted at Peckham and local anecdotes suggest that the right to an annual fair was granted to celebrate a particularly good day's sport. The fair grew to be a rowdy major event lasting three weeks until its abolition in 1827.\n",
      "\n",
      "Peckham became popular as a wealthy residential area by the 16th century and there are several claims that Christopher Wren had local links. By the 18th century the area was a more commercial centre and attracted industrialists who wanted to avoid paying the expensive rents in central London.  Peckham also boasted extensive market gardens and orchards growing produce for the nearby markets of London. Local produce included melons, figs and grapes. The formal gardens of the Peckham Manor House, rebuilt in 1672 by Sir Thomas Bond were particularly noticeable and can be seen on the Rocque map of 1746. The manor house was sacked in 1688, as its then owner Sir Henry Bond was a Roman Catholic and staunch supporter of James II. The house was finally demolished in 1797 for the formation of Peckham Hill Street, as the Shard family developed the area. Today Shard's Terrace, the block that contains Manze's Pie and Mash shop, and the western side of Peckham Hill Street represent this Georgian planned expansion.\n",
      "\n",
      "The village was the last stopping point for many cattle drovers taking their livestock for sale in London. The drovers stayed in the local inns (such as the Red Cow) while the cattle were safely secured overnight in holding pens. Most of the villagers were agricultural or horticultural workers but with the early growth of the suburbs an increasing number worked in the brick industry that exploited the local London Clay. In the early 18th century nonconformist preacher Samuel Chandler was minister in Peckham.[4]\n",
      "\n",
      "In 1767 William Blake visited Peckham Rye and had a vision of an angel in a tree. In 1993, at the request of the Dulwich Festival,[7] artist Stan Peskett painted a mural of Blake's vision next to the Goose Green playground in East Dulwich.\n",
      "\n",
      "At the beginning of the 19th century, Peckham was synonymous with Peckham Rye: a \"small, quiet, retired village surrounded by fields\". Since 1744 stagecoaches had travelled with an armed guard between Peckham and London to give protection from highwaymen. The rough roads constrained traffic so a branch of the Grand Surrey Canal was proposed as a route from the Thames to Portsmouth. The canal was built from Surrey Commercial Docks to Peckham before the builders ran out of funds in 1826. The abbreviated canal was used to ship soft wood for construction and even though the canal was drained and backfilled in 1970, Whitten's timber merchants stood on the site known as Eagle Wharf until it closed in 2019 and the location was designated for development.[8]\n",
      "\n",
      "In 1851 Thomas Tilling started an innovative omnibus service from Peckham to London. Tilling's buses were the first to use pre-arranged bus stops, which helped them to run to a reliable timetable. His services expanded to cover much of London until his horses were requisitioned for the Army in the First World War.\n",
      "\n",
      "During the mid-19th century, housing had spread north and west of Peckham Rye. The area in the north, towards Old Kent Road, on land previously owned by the Hill family (from whom the name Peckham Hill Street was derived) was initially known as Peckham New Town, although it would later become synonymous with Peckham in general (and the \"New Town\" was abandoned). In the area west of Peckham Rye Common and Peckham Rye Park, many large houses were built.\n",
      "\n",
      "Peckham Rye railway station was opened, in 1865. With the arrival of the railway and the introduction of horse-drawn trams about ten years later, Peckham became accessible to artisans and clerical staff working in the city and the docks. Housing for this socio-economic group filled almost all the remaining fields except the Rye. In 1868 the vestry of Camberwell St Giles bought the Rye to keep it as common land. Responding to concerns about the dangerous overcrowding of the common on holidays the vestry bought the adjacent Homestall Farm (the last farm in the area) in 1894 and opened this as Peckham Rye Park.\n",
      "\n",
      "With the influx of younger residents with money to spend Rye Lane became a major shopping street. Jones & Higgins opened a small shop in 1867 (on the corner of Rye Lane and Peckham High Street) that became the best known department store in south London for many years. It closed in the 1980s. In 1870 George Gibson Bussey moved to Peckham and set up a firm described as \"Firearms, Ammunition & Shooting” at the Museum Works, Rye Lane, Peckham. The Museum of Firearms was built in 1867. The Ordnance Survey Map of 1868 shows the museum building with a rifle range at the rear extending along the side of the railway\n",
      "embankment for 150 yards.\n",
      "\n",
      "The late 19th century also saw the arrival of George Batty, a manufacturer of condiments, whose main business stood at Finsbury Pavement. The company's Peckham premises occupied 19 railway arches. It was acquired by the H. J. Heinz Company in 1905 as their first UK manufacturing base.\n",
      "\n",
      "The southern end of Peckham was the location for the railway line that once served the Crystal Palace in Sydenham. Though the line was eventually dismantled due to the collapse of the embankment into the gardens of Marmora Road it is still possible to see large sections of it. The flats on Wood Vale and the full length of Brenchley Gardens trace its route.\n",
      "\n",
      "Close by is the Aquarius Golf Club,[9] which is located over the cavernous Honor Oak Reservoir constructed between 1901 and 1909. When it was completed it was the largest brick built underground reservoir in the world[10] and is still one of the largest in Europe.[11] The reservoir now forms part of the Southern extension of the Thames Water Ring Main.\n",
      "\n",
      "Camberwell Old Cemetery, on Forest Hill Road, is a later example of the ring of Victorian cemeteries that were built to alleviate the overcrowding of churchyards that was experienced with the rapid expansion of London in the 19th century. The Stone House at its main entrance was used as a film location for Entertaining Mr. Sloane (1970), adapted from the Joe Orton play. It was gutted by fire in the mid-1970s and rebuilt some years later. Camberwell Old Cemetery did not have the grandeur of nearby Nunhead Cemetery, which was one of the original London necropoleis, and once nearing capacity it was replaced by Camberwell New Cemetery on Brenchley Gardens.\n",
      "\n",
      "Brenchley Gardens Park follows the route of the old line to the Crystal Palace culminating at the High Level station. The park runs behind Marmora Road and the remains of the embankment then continues along Wood Vale where flats were built on it. The line was closed in 1954 following a decline in its use after the destruction of the Crystal Palace in 1936 and due to slippage in the structure of the embankment.[12]\n",
      "\n",
      "In the 1930s George Scott Williamson and Innes Pearse opened the Pioneer Health Centre in Queens Road. They planned to conduct a large experiment into the effect of environment on health.\n",
      "'The Peckham Experiment' recruited 950 families who paid one shilling (equivalent to £3 in 2021) a week for access to something like a modern sports club with facilities for physical exercise, games, workshops and socialising with no mandatory programme. The centre moved into a purpose built modernist building by the architect Sir Owen Williams in 1935.\n",
      "\n",
      "North Peckham was heavily redeveloped in the 1960s, consisting mainly of high-rise flats to rehouse people from dilapidated old houses. It was popular on its completion for offering a high quality and modern standard of living. However, high unemployment and a lack of economic opportunities led to urban decay and a period of decline in the late 1970s. The North Peckham Estate became one of the most deprived residential areas in Western Europe. Vandalism, graffiti, arson attacks, burglaries, robberies and muggings were commonplace, and the area became an archetypal London sink estate. As a result, the area was subjected to a £290 million regeneration programme in the late 1990s and early 2000s. After the beginning of the regeneration, the estate gained nationwide notoriety in the media when 10-year-old Nigerian resident Damilola Taylor was stabbed to death on the estate on 27 November 2000.[13] A gang operating in the area is the Peckham Boys.[14]\n",
      "\n",
      "In the early 1990s Peckham was a centre of underground music partly due to a large squat known as The Dolehouse in a disused, two-floor DHSS building near Peckham High Street.[15] The building was already known for having featured in the cover shot of a 1980s pictorial biography of 1960s' mods, featuring them on their customised scooters outside the then Camberwell Labour Exchange. In 1989 the squatters adopted the name Dole House Crew and along with another local group of squatters called the \"Green Circus\", held regular gigs/parties in the building. They moved on to many other South East London venues after the Peckham Dolehouse was evicted in late October 1990. A squatted social centre called the Spike Surplus Scheme ran from 1998 until being evicted by the council in 2009.\n",
      "\n",
      "Peckham was one of the areas where riots took place during the 2011 England riots.[16]\n",
      "\n",
      "Since the 1990s the European Union has invested in the regeneration of the area; partly funding the award-winning Peckham Library,[17] a new town square and new housing to replace the North Peckham Estate. State funding is being provided to improve the housing stock and renovate the streets. This includes funding for public arts projects like the Tom Phillips mosaics on the wall of the Peckham Experiment restaurant.\n",
      "\n",
      "1994 saw the completion of the Peckham Arch designed by architects Troughton McAslan and funded in part by a £1m SRB (Single Regeneration Budget) grant.[18] The arch is due to be demolished to make way for 19 flats; the decision was made despite public protests.[19]\n",
      "\n",
      "The main shopping street is Rye Lane and the large Peckham Rye Park is nearby. Bellenden Road is an area of small independent shops.\n",
      "\n",
      "Peckham has never been an administrative district, or a single ecclesiastical parish in its own right, but it developed a strong sense of identity in the 19th century when Rye Lane was one of the most important shopping streets in south London. The area is identified in the London Plan as one of 35 major centres in Greater London.[1]\n",
      "\n",
      "The area known as Peckham covers a large area of south London and takes in many diverse communities.  The British Nigerian community forms a sizeable component of the population of the area, with the area being dubbed \"Little Lagos\" as a result.[20] As of 2011, the whole Peckham area had a Nigerian-born population of 5,250 people.[21]  A traditional London working class community now coexists with communities that have their origins in the Caribbean, China, India, Ghana, Zimbabwe, Nigeria, Somalia, Pakistan, Bangladesh, Turkey, Eastern Europe and Vietnam. As well as these communities there has been a steady gentrification of some of the areas in the south of Peckham and this has meant an influx of cafés, wine bars, niche shops and artists' studios.\n",
      "\n",
      "Peckham is one of the most ethnically diverse areas of the UK. These are the statistics for the ethnic groups in the Peckham ward according to the 2011 Census.[2] This ward is about one-fifth of the place called Peckham, and not representative of the ethnic and cultural distribution in the other four wards.\n",
      "\n",
      "Muriel Spark's novel The Ballad of Peckham Rye (1960) is set in the area.\n",
      "\n",
      "Peckham was the setting of the television sitcom Only Fools and Horses in its run as a regular series from 1981 to 1991, as well as Christmas specials until 2003. The majority of the scenes were filmed in Bristol, and around other parts of London. The spin-off, Rock & Chips, was also set in Peckham in the 1960s.\n",
      "\n",
      "The television situation comedy Desmond's, made by Channel 4, was filmed and set in Peckham. Also, the comedies Meet the Adebanjos and The Tboy Show (both directed by Debra Odutuyo) were set in Peckham.\n",
      "\n",
      "A 30-minute musical called We The Ragamuffin[22] was set in Peckham, and filmed in the area, mainly on the North Peckham Estate. The film used local musicians with an improvised script and was broadcast on Channel 4 in February 1992. The film was written and produced by Russell Newell and directed by Julian Henriques.\n",
      "\n",
      "Peckham was home of the fictional character Rose Tyler, a former leading character in the British TV show Doctor Who. Her flat on a fictional council estate in the area is regularly shown during her time on the show.\n",
      "\n",
      "The E4 show Youngers is filmed and set in Peckham.\n",
      "\n",
      "In the television series Foyle's War, Series Eight, Adam Wainright, Samantha's husband, is elected in 1947 as Labour Member of Parliament for the (fictional) constituency of 'West Peckham'.\n",
      "\n",
      "Four of the 12 main characters in Bernardine Evaristo's novel Girl, Woman, Other are connected to the fictive Peckham School for Boys and Girls as either teachers or pupils.\n",
      "\n",
      "The film Rye Lane is largely set in Peckham, and is named for the street there. The film features real-life locations, including the restaurants Coal Rooms and Il Giardino, Rye Lane Market, the Rye Lane branch of Morley's, and the Peckhamplex cinema.[23]\n",
      "\n",
      "Key scenes in the 2023 rom-com Love at First Sight take place at the fictional Peckham House.\n",
      "\n",
      "Like most of southeast London, Peckham has never been served by the London Underground. However, if and when the Bakerloo line extension is complete, a new tube station will be built on Asylum Road northeast of the centre of Peckham, near the A2 road and Brimmington Park. It will be located between another new station at Burgess Park and the existing railway station at New Cross Gate. Existing railway stations in the district are as follows:\n",
      "\n",
      "Peckham bus garage is currently operated by London Central and is situated in Blackpool Road. It opened in 1994 and replaced a similar but larger facility in Peckham High Street on part of whose site the present bus station now stands. A viaduct behind it carries the railway east of Peckham Rye railway station.\n",
      "\n",
      "\n",
      "\n",
      "\n"
     ]
    }
   ],
   "source": [
    "page_title = \"Camberwell\" \n",
    "main_body_text = extract_main_body_text(page_title, language='en')\n",
    "print(main_body_text)"
   ]
  },
  {
   "cell_type": "markdown",
   "metadata": {},
   "source": [
    "Here we can save our scraped data to a file. This is in the folder `data/my-data` a special folder where you can put your datasets as you work on these code projects (without them being tracked by git). \n",
    "\n",
    "These cell will write whatever text is in the variable `main_body_text` to the end of the file `wikipedia-text`. Here we are using the option `a` which means append. This won't delete or overwrite any of the data already in our file. That way we can keep running the cell about to load text from a new page and the cell below to append it to our evergrowing file!\n",
    "\n",
    "<a id='write-text'></a>"
   ]
  },
  {
   "cell_type": "code",
   "execution_count": 25,
   "metadata": {},
   "outputs": [],
   "source": [
    "with open(\"../data/my-data/my-wikipedia-text.txt\", \"a\") as myfile:\n",
    "    myfile.write(main_body_text)"
   ]
  },
  {
   "cell_type": "markdown",
   "metadata": {},
   "source": [
    "## Tasks\n",
    "\n",
    "Run through this notebook a couple of times, [loading in different Wikipedia articles](#set-page) and [saving them](#write-text) to the file of scraped text. Don't worry about the data getting overwritten, we are writing in append only so our file will just get bigger each time you load and save the text from another page. \n",
    "\n",
    "Open up the text file in `data/my-data/my-wikipedia-text.txt` and see what is in there. Does it look sensible? Once you feel like you have scraped enough text then go to the `text-generation-with-markov-chains` notebook and try generating some text with the data you have scraped! \n",
    "\n",
    "If you want to add more data more quickly, and find running the cells individually for one page, why don't you try and write some code that goes through a list where you can put lots of wikipedia page titles, and get it to get the text from each page one by one and save it to our appended file?\n",
    "\n",
    "### Bonus tasks\n",
    "\n",
    "There are some bonus tasks here if you want to develop your web scraping skills futher. Alternatively, if you are more interested in the generative text component of this session, you can spend your time on the bonus tasks there.\n",
    "\n",
    "**Bonus task A:** Can you modify the [function that performs the web scraping](#scrape-function) to include the headers in the wikipedia page text as well as the paragraphs? \n",
    "\n",
    "**Bonus task B:** Can you write some code that finds and removes the citations (numbers in square brackets, e.g. \\[1\\], \\[2\\], \\[12\\])  from the text before writing it to the file? Tip: You may want to borrow some of the regex code from the stemmer we build in week 3 to do this. \n",
    "\n",
    "**Bonus task C:** Can you adapt this code to extract data from another website. You will almost certainly have to change the property being searched for in [the web scraping function](#scrape-function). Either use your browser to look at the HTML code for the site (in most browsers this will be under a menu option called developer tools), or use the chrome extension [simple scraper](https://simplescraper.io/docs/) to help you. It will not be possible to scrape data from all websites using this code, lots of website these days try to prevent bots from accessing their content!\n"
   ]
  }
 ],
 "metadata": {
  "kernelspec": {
   "display_name": "nlp",
   "language": "python",
   "name": "python3"
  },
  "language_info": {
   "codemirror_mode": {
    "name": "ipython",
    "version": 3
   },
   "file_extension": ".py",
   "mimetype": "text/x-python",
   "name": "python",
   "nbconvert_exporter": "python",
   "pygments_lexer": "ipython3",
   "version": "3.9.18"
  },
  "orig_nbformat": 4
 },
 "nbformat": 4,
 "nbformat_minor": 2
}
