{
 "cells": [
  {
   "cell_type": "markdown",
   "metadata": {},
   "source": [
    "# Visualising nursery rhymes\n",
    "\n",
    "In this notebook we will look at two different ways that we can represent passages of text with numbers, and create visualisations for them.\n",
    "\n",
    "We will be using nursery rhymes from the [nursery rhyme dataset](https://git.arts.ac.uk/tbroad/nursery-rhymes-dataset) for our visualisation. These were scraped from the website [allnurseryrhymes.com](https://allnurseryrhymes.com/) where and you can find out more information about lots of the rhymes there. Many of them have interesting historical facts to go along with them. \n",
    "\n",
    "The nursery rhymes dataset is a small dataset that we will be using for the next few weeks while we are learning the basics of natural language processing. Nursery rhymes are usually short, have simple language, and have repetitve vocabularies. Therefore they are the perfect thing to study while we are learning the basics of NLP!\n",
    "\n",
    "In this exercise we will be running code that makes two different visualisations of ways in which we can represent text as numbers. The first is a one-hot vector encoding of a nursery rhyme based on words, and the second is bag of words visualisation.\n",
    "\n",
    "First, lets do some imports:"
   ]
  },
  {
   "cell_type": "code",
   "execution_count": null,
   "metadata": {},
   "outputs": [],
   "source": [
    "#if you haven't already installed these, install them now:\n",
    "%pip install matplotlib\n",
    "%pip install seaborn"
   ]
  },
  {
   "cell_type": "code",
   "execution_count": null,
   "metadata": {},
   "outputs": [],
   "source": [
    "import matplotlib.pyplot as plt\n",
    "import seaborn as sns\n",
    "import pandas as pd\n",
    "import numpy as np"
   ]
  },
  {
   "cell_type": "markdown",
   "metadata": {},
   "source": [
    "Lets load in the nursey rhyme `row-row-row-your-boat.txt`. [You can read more about the rhyme here](https://allnurseryrhymes.com/row-row-row-your-boat/).\n",
    "\n",
    "<a id='task2'></a>"
   ]
  },
  {
   "cell_type": "code",
   "execution_count": null,
   "metadata": {},
   "outputs": [],
   "source": [
    "f = open(\"../data/nursery-rhymes/row-row-row-your-boat.txt\", \"r\")\n",
    "text = f.read()\n",
    "print(text)"
   ]
  },
  {
   "cell_type": "markdown",
   "metadata": {},
   "source": [
    "Lets replace the new line characters with spaces. In code we represent new line with `\\n`"
   ]
  },
  {
   "cell_type": "code",
   "execution_count": null,
   "metadata": {},
   "outputs": [],
   "source": [
    "text = text.replace('\\n', ' ')\n",
    "print(text)"
   ]
  },
  {
   "cell_type": "markdown",
   "metadata": {},
   "source": [
    "You will need to do some more filtering of the text here, though for now don't worry, see the tasks at the end of the document for hints on what to do here:\n",
    "\n",
    "<a id='task1'></a>"
   ]
  },
  {
   "cell_type": "code",
   "execution_count": null,
   "metadata": {},
   "outputs": [],
   "source": [
    "# Don't change anything in this cell yet. You'll come back here in Task 1A\n",
    "\n",
    "#Then, you might want to start by thinking about using text.replace(....) (you'll need to figure out how to fill it in!)\n"
   ]
  },
  {
   "cell_type": "markdown",
   "metadata": {},
   "source": [
    "Now lets get the words by splitting the string based on the space character ` `. We will also find our vocabulary of unique words by using the in-built [set data structure](https://docs.python.org/3/tutorial/datastructures.html#:~:text=Python%20also%20includes%20a%20data%2C%20difference%2C%20and%20symmetric%20difference.)."
   ]
  },
  {
   "cell_type": "code",
   "execution_count": null,
   "metadata": {},
   "outputs": [],
   "source": [
    "words = text.split(' ')\n",
    "vocab = sorted(set(words))\n",
    "vocab_size = len(vocab)\n",
    "print(f'There are {vocab_size} different words in the rhyme.')\n",
    "print(f'Here are all the words in the nursery rhyme: {vocab}')"
   ]
  },
  {
   "cell_type": "markdown",
   "metadata": {},
   "source": [
    "Now let's assign each work to a number index:"
   ]
  },
  {
   "cell_type": "code",
   "execution_count": null,
   "metadata": {},
   "outputs": [],
   "source": [
    "word_to_index = {word: index for index, word in enumerate(vocab)}\n",
    "print(word_to_index)"
   ]
  },
  {
   "cell_type": "markdown",
   "metadata": {},
   "source": [
    "Now lets make a [one-hot](https://en.wikipedia.org/wiki/One-hot) vector visualisation of the nursery rhyme. This form of representation is important, especially for when we want to generate text. Don't worry about understanding all of the code for now, just run it and look at the visualisation."
   ]
  },
  {
   "cell_type": "code",
   "execution_count": null,
   "metadata": {},
   "outputs": [],
   "source": [
    "# Encode the text using a one-hot vector representation\n",
    "one_hot_matrices = []\n",
    "for word in words:\n",
    "    one_hot = np.zeros(vocab_size)\n",
    "    one_hot[word_to_index[word]] = 1\n",
    "    one_hot_matrices.append(one_hot)\n",
    "\n",
    "# Convert the list of one-hot matrices to a 2D NumPy array\n",
    "one_hot_array = np.array(one_hot_matrices)\n",
    "\n",
    "# Create a heatmap to visualize the one-hot array\n",
    "plt.figure(figsize=(12, 6))\n",
    "plt.imshow(one_hot_array.T, cmap=\"Blues\", aspect=\"auto\")\n",
    "plt.xticks(np.arange(len(words)), words, rotation=45)\n",
    "plt.yticks(np.arange(vocab_size), vocab)\n",
    "plt.xlabel(\"Nursery rhyme\")\n",
    "plt.ylabel(\"Vocabulary\")\n",
    "plt.title(\"One-Hot Vector Encoding of a Nursery Rhyme\")\n",
    "plt.grid(True)\n",
    "plt.show()"
   ]
  },
  {
   "cell_type": "markdown",
   "metadata": {},
   "source": [
    "Using this kind of visualisation we can easily see which words repeat and the order of the words. \n",
    "\n",
    "The computer though just represents this arrays (aka lists) of numbers which are either 0 or 1. Lets take a look at the value of the matrix (aka table):"
   ]
  },
  {
   "cell_type": "code",
   "execution_count": null,
   "metadata": {},
   "outputs": [],
   "source": [
    "# Make a pandas data frame with labels for the rows and columns\n",
    "df = pd.DataFrame(data = one_hot_array.T, \n",
    "                  index =  vocab, \n",
    "                  columns = words)\n",
    "\n",
    "# Now lets inspect our dataframe\n",
    "df"
   ]
  },
  {
   "cell_type": "markdown",
   "metadata": {},
   "source": [
    "Now lets look at a different kind of visualisation. Here lets look at a visualisation of a [bag-of -words](https://en.wikipedia.org/wiki/Bag-of-words_model) representation of our nursery rhyme.\n",
    "\n",
    "In bag-of-words, we count the occurances of each word. This type of representation assumes that words that are repeated a lot are more important than words used infrequently. This assumption has its limitations, such as counting common words like 'and', 'or', 'it', but in the next two weeks we explore methods to address this.\n",
    "\n",
    "Lets first make an empty array for our counts:"
   ]
  },
  {
   "cell_type": "code",
   "execution_count": null,
   "metadata": {},
   "outputs": [],
   "source": [
    "document_term_matrix = np.zeros((1, len(vocab)), dtype=int)\n",
    "document_term_matrix"
   ]
  },
  {
   "cell_type": "markdown",
   "metadata": {},
   "source": [
    "Now lets count the occurance of each word in the nursery rhyme:"
   ]
  },
  {
   "cell_type": "code",
   "execution_count": null,
   "metadata": {},
   "outputs": [],
   "source": [
    "for i, word_in_vocab in enumerate(vocab):\n",
    "    for j, word_in_full_rhyme in enumerate(words):\n",
    "        if word_in_vocab == word_in_full_rhyme:\n",
    "            document_term_matrix[0, i] += 1\n",
    "\n",
    "document_term_matrix"
   ]
  },
  {
   "cell_type": "markdown",
   "metadata": {},
   "source": [
    "Now lets visualise these counts with a heatmap of different colours:"
   ]
  },
  {
   "cell_type": "code",
   "execution_count": null,
   "metadata": {},
   "outputs": [],
   "source": [
    "plt.figure(figsize=(2, 6))\n",
    "sns.set(font_scale=1.2)  # Adjust font size\n",
    "sns.heatmap(document_term_matrix.T, annot=True, cbar=False, cmap=\"YlGnBu\", yticklabels=list(vocab), xticklabels='')\n",
    "plt.ylabel(\"Vocab\")\n",
    "plt.xlabel(\"Number of occurences\")\n",
    "plt.title(\"Bag of Words Heatmap\")\n",
    "plt.show()"
   ]
  },
  {
   "cell_type": "markdown",
   "metadata": {},
   "source": [
    "## Tasks\n",
    "\n",
    "**Task 1.A** Take a look at the vocab in both visualisations. You will notice that there are some words that are repeated multiple times. This is because the punctuation (like . and ,) have not been removed from the strings, so our algorithm classifies them as separate words. Write some code to remove these from the original text string in [this cell](#task1). \n",
    "\n",
    "**Task 1.B** We can also merge more of the words if we make [all the letters the same case](https://www.w3schools.com/python/python_strings_modify.asp), either *lowercase* or *UPPERCASE*. Change that and see how that effects the visualisations. Do this in the [same cell](#task1).\n",
    "\n",
    "**Task 2.A** Now take a look at some of the other nursery rhymes in `data/nursery-rhymes`, try loading in a different rhyme into [this cell](#task2) by changing the path to a different file. Try it with a short nursery rhyme to start with. \n",
    "- How does this effect the visualisation? Maybe you need to remove more special characters to merge all of the same words together. \n",
    "- If the visualisation does not look right and you have overlapping text, try changing the values of the numbers in the line of code `plt.figure(figsize=(12, 6))` to something different bigger. \n",
    "\n",
    "**Task 2.B** Once you are happy with your visualisation, upload it to the miro board to share with the class."
   ]
  },
  {
   "cell_type": "markdown",
   "metadata": {},
   "source": []
  }
 ],
 "metadata": {
  "kernelspec": {
   "display_name": "nlp",
   "language": "python",
   "name": "python3"
  },
  "language_info": {
   "codemirror_mode": {
    "name": "ipython",
    "version": 3
   },
   "file_extension": ".py",
   "mimetype": "text/x-python",
   "name": "python",
   "nbconvert_exporter": "python",
   "pygments_lexer": "ipython3",
   "version": "3.9.18"
  },
  "orig_nbformat": 4
 },
 "nbformat": 4,
 "nbformat_minor": 2
}
